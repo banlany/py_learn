{
 "cells": [
  {
   "cell_type": "code",
   "execution_count": 2,
   "metadata": {},
   "outputs": [
    {
     "name": "stdout",
     "output_type": "stream",
     "text": [
      "1111  21211 11 1\n"
     ]
    }
   ],
   "source": [
    "def num_link(a,b):\n",
    "    a = str(a).lstrip('0')  \n",
    "    b = str(b).lstrip('0')\n",
    "    len_c = len(a)+len(b)\n",
    "    c = ''\n",
    "    for i in range(len_c):\n",
    "        c += a[i%len(a)]\n",
    "        c += b[i%len(b)]\n",
    "    return c\n",
    "a = input()\n",
    "b = input()\n",
    "print(num_link(a,b))"
   ]
  }
 ],
 "metadata": {
  "kernelspec": {
   "display_name": "python3.6(machine learning)",
   "language": "python",
   "name": "gluon"
  },
  "language_info": {
   "codemirror_mode": {
    "name": "ipython",
    "version": 3
   },
   "file_extension": ".py",
   "mimetype": "text/x-python",
   "name": "python",
   "nbconvert_exporter": "python",
   "pygments_lexer": "ipython3",
   "version": "3.9.13"
  }
 },
 "nbformat": 4,
 "nbformat_minor": 2
}
